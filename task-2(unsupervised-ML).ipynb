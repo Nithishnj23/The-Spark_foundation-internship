{
 "cells": [
  {
   "cell_type": "markdown",
   "id": "4c9453c6",
   "metadata": {
    "papermill": {
     "duration": 0.014253,
     "end_time": "2022-05-20T14:47:51.942989",
     "exception": false,
     "start_time": "2022-05-20T14:47:51.928736",
     "status": "completed"
    },
    "tags": []
   },
   "source": [
    "# TSF GRIP Task 2 - Unsupervised ML\n",
    "\n",
    "Dataset : Iris.csv\n",
    "\n",
    "\n",
    "***Nithish Kumar S J***"
   ]
  },
  {
   "cell_type": "markdown",
   "id": "f089ab80",
   "metadata": {
    "papermill": {
     "duration": 0.011974,
     "end_time": "2022-05-20T14:47:51.967423",
     "exception": false,
     "start_time": "2022-05-20T14:47:51.955449",
     "status": "completed"
    },
    "tags": []
   },
   "source": [
    "***#Importing all the Standard Libraries for our Clustering Model***"
   ]
  },
  {
   "cell_type": "code",
   "execution_count": 1,
   "id": "8835e256",
   "metadata": {
    "execution": {
     "iopub.execute_input": "2022-05-20T14:47:51.993898Z",
     "iopub.status.busy": "2022-05-20T14:47:51.993078Z",
     "iopub.status.idle": "2022-05-20T14:47:53.220150Z",
     "shell.execute_reply": "2022-05-20T14:47:53.218978Z"
    },
    "papermill": {
     "duration": 1.243704,
     "end_time": "2022-05-20T14:47:53.223111",
     "exception": false,
     "start_time": "2022-05-20T14:47:51.979407",
     "status": "completed"
    },
    "tags": []
   },
   "outputs": [],
   "source": [
    "import pandas as pd\n",
    "import numpy as np\n",
    "import matplotlib.pyplot as plt\n",
    "from sklearn import datasets"
   ]
  },
  {
   "cell_type": "markdown",
   "id": "881c85bf",
   "metadata": {
    "papermill": {
     "duration": 0.011582,
     "end_time": "2022-05-20T14:47:53.246660",
     "exception": false,
     "start_time": "2022-05-20T14:47:53.235078",
     "status": "completed"
    },
    "tags": []
   },
   "source": [
    "***Loading our dataset***"
   ]
  },
  {
   "cell_type": "code",
   "execution_count": 2,
   "id": "6c3c4762",
   "metadata": {
    "execution": {
     "iopub.execute_input": "2022-05-20T14:47:53.272622Z",
     "iopub.status.busy": "2022-05-20T14:47:53.272299Z",
     "iopub.status.idle": "2022-05-20T14:47:53.298826Z",
     "shell.execute_reply": "2022-05-20T14:47:53.297669Z"
    },
    "papermill": {
     "duration": 0.042839,
     "end_time": "2022-05-20T14:47:53.301452",
     "exception": false,
     "start_time": "2022-05-20T14:47:53.258613",
     "status": "completed"
    },
    "tags": []
   },
   "outputs": [
    {
     "name": "stdout",
     "output_type": "stream",
     "text": [
      "<bound method NDFrame.head of      sepal length (cm)  sepal width (cm)  petal length (cm)  petal width (cm)\n",
      "0                  5.1               3.5                1.4               0.2\n",
      "1                  4.9               3.0                1.4               0.2\n",
      "2                  4.7               3.2                1.3               0.2\n",
      "3                  4.6               3.1                1.5               0.2\n",
      "4                  5.0               3.6                1.4               0.2\n",
      "..                 ...               ...                ...               ...\n",
      "145                6.7               3.0                5.2               2.3\n",
      "146                6.3               2.5                5.0               1.9\n",
      "147                6.5               3.0                5.2               2.0\n",
      "148                6.2               3.4                5.4               2.3\n",
      "149                5.9               3.0                5.1               1.8\n",
      "\n",
      "[150 rows x 4 columns]>\n"
     ]
    }
   ],
   "source": [
    "iris = datasets.load_iris()\n",
    "df = pd.DataFrame(iris.data, columns=iris.feature_names)  #pandas.DataFrame( data, index, columns, dtype, copy)\n",
    "print(df.head)"
   ]
  },
  {
   "cell_type": "markdown",
   "id": "cd2cb61c",
   "metadata": {
    "papermill": {
     "duration": 0.012071,
     "end_time": "2022-05-20T14:47:53.326201",
     "exception": false,
     "start_time": "2022-05-20T14:47:53.314130",
     "status": "completed"
    },
    "tags": []
   },
   "source": [
    "***Finding the optimum number of clusters for k-means classification***"
   ]
  },
  {
   "cell_type": "code",
   "execution_count": 3,
   "id": "bf70e75d",
   "metadata": {
    "execution": {
     "iopub.execute_input": "2022-05-20T14:47:53.353010Z",
     "iopub.status.busy": "2022-05-20T14:47:53.352048Z",
     "iopub.status.idle": "2022-05-20T14:47:54.077004Z",
     "shell.execute_reply": "2022-05-20T14:47:54.075806Z"
    },
    "papermill": {
     "duration": 0.741426,
     "end_time": "2022-05-20T14:47:54.079947",
     "exception": false,
     "start_time": "2022-05-20T14:47:53.338521",
     "status": "completed"
    },
    "tags": []
   },
   "outputs": [],
   "source": [
    "x = df.iloc[:, [0, 1, 2, 3]].values\n",
    "\n",
    "from sklearn.cluster import KMeans\n",
    "css = []\n",
    "\n",
    "for i in range(1, 11):\n",
    "    kmeans = KMeans(n_clusters = i, init = 'k-means++', max_iter = 300, n_init = 10, random_state = 0)\n",
    "    kmeans.fit(x)\n",
    "    css.append(kmeans.inertia_)\n",
    "    "
   ]
  },
  {
   "cell_type": "markdown",
   "id": "f7ed2cf6",
   "metadata": {
    "papermill": {
     "duration": 0.011654,
     "end_time": "2022-05-20T14:47:54.105343",
     "exception": false,
     "start_time": "2022-05-20T14:47:54.093689",
     "status": "completed"
    },
    "tags": []
   },
   "source": [
    "***Plotting the results on a line graph***"
   ]
  },
  {
   "cell_type": "code",
   "execution_count": 4,
   "id": "85578608",
   "metadata": {
    "execution": {
     "iopub.execute_input": "2022-05-20T14:47:54.132393Z",
     "iopub.status.busy": "2022-05-20T14:47:54.132074Z",
     "iopub.status.idle": "2022-05-20T14:47:54.381947Z",
     "shell.execute_reply": "2022-05-20T14:47:54.380902Z"
    },
    "papermill": {
     "duration": 0.266731,
     "end_time": "2022-05-20T14:47:54.384750",
     "exception": false,
     "start_time": "2022-05-20T14:47:54.118019",
     "status": "completed"
    },
    "tags": []
   },
   "outputs": [
    {
     "data": {
      "image/png": "[encoded data removed]",
      "text/plain": [
       "<Figure size 432x288 with 1 Axes>"
      ]
     },
     "metadata": {
      "needs_background": "light"
     },
     "output_type": "display_data"
    }
   ],
   "source": [
    "plt.plot(range(1, 11), css)\n",
    "plt.title('The elbow method')\n",
    "plt.xlabel('Number of clusters')\n",
    "plt.ylabel('CSS') #cluster sum of squares\n",
    "plt.show()"
   ]
  },
  {
   "cell_type": "markdown",
   "id": "0ac917db",
   "metadata": {
    "papermill": {
     "duration": 0.014803,
     "end_time": "2022-05-20T14:47:54.412686",
     "exception": false,
     "start_time": "2022-05-20T14:47:54.397883",
     "status": "completed"
    },
    "tags": []
   },
   "source": [
    "***Creating the kmeans classifier***"
   ]
  },
  {
   "cell_type": "code",
   "execution_count": 5,
   "id": "12cf7c95",
   "metadata": {
    "execution": {
     "iopub.execute_input": "2022-05-20T14:47:54.440771Z",
     "iopub.status.busy": "2022-05-20T14:47:54.440472Z",
     "iopub.status.idle": "2022-05-20T14:47:54.471895Z",
     "shell.execute_reply": "2022-05-20T14:47:54.470783Z"
    },
    "papermill": {
     "duration": 0.048808,
     "end_time": "2022-05-20T14:47:54.474888",
     "exception": false,
     "start_time": "2022-05-20T14:47:54.426080",
     "status": "completed"
    },
    "tags": []
   },
   "outputs": [],
   "source": [
    "kmeans = KMeans(n_clusters = 3, init = 'k-means++', max_iter = 300, n_init = 10, random_state = 0)\n",
    "y_kmeans = kmeans.fit_predict(x)"
   ]
  },
  {
   "cell_type": "markdown",
   "id": "b37b417d",
   "metadata": {
    "papermill": {
     "duration": 0.012937,
     "end_time": "2022-05-20T14:47:54.501221",
     "exception": false,
     "start_time": "2022-05-20T14:47:54.488284",
     "status": "completed"
    },
    "tags": []
   },
   "source": [
    "***Visualising the clusters for the first two columns***"
   ]
  },
  {
   "cell_type": "code",
   "execution_count": 6,
   "id": "667ec978",
   "metadata": {
    "execution": {
     "iopub.execute_input": "2022-05-20T14:47:54.529070Z",
     "iopub.status.busy": "2022-05-20T14:47:54.528610Z",
     "iopub.status.idle": "2022-05-20T14:47:54.852554Z",
     "shell.execute_reply": "2022-05-20T14:47:54.851944Z"
    },
    "papermill": {
     "duration": 0.340356,
     "end_time": "2022-05-20T14:47:54.854618",
     "exception": false,
     "start_time": "2022-05-20T14:47:54.514262",
     "status": "completed"
    },
    "tags": []
   },
   "outputs": [
    {
     "data": {
      "text/plain": [
       "<matplotlib.legend.Legend at 0x7f42f48a09d0>"
      ]
     },
     "execution_count": 6,
     "metadata": {},
     "output_type": "execute_result"
    },
    {
     "data": {
      "image/png": "[encoded data removed]",
      "text/plain": [
       "<Figure size 432x288 with 1 Axes>"
      ]
     },
     "metadata": {
      "needs_background": "light"
     },
     "output_type": "display_data"
    }
   ],
   "source": [
    "plt.scatter(x[y_kmeans == 0, 0], x[y_kmeans == 0, 1], \n",
    "            s = 100, c = 'red', label = 'Iris-setosa')\n",
    "plt.scatter(x[y_kmeans == 1, 0], x[y_kmeans == 1, 1], \n",
    "            s = 100, c = 'blue', label = 'Iris-versicolour')\n",
    "plt.scatter(x[y_kmeans == 2, 0], x[y_kmeans == 2, 1],\n",
    "            s = 100, c = 'green', label = 'Iris-virginica')\n",
    "\n",
    "#Plotting the centroids of the clusters\n",
    "plt.scatter(kmeans.cluster_centers_[:, 0], kmeans.cluster_centers_[:,1], \n",
    "            s = 100, c = 'yellow', label = 'Centroids')\n",
    "plt.legend()"
   ]
  }
 ],
 "metadata": {
  "kernelspec": {
   "display_name": "Python 3",
   "language": "python",
   "name": "python3"
  },
  "language_info": {
   "codemirror_mode": {
    "name": "ipython",
    "version": 3
   },
   "file_extension": ".py",
   "mimetype": "text/x-python",
   "name": "python",
   "nbconvert_exporter": "python",
   "pygments_lexer": "ipython3",
   "version": "3.7.12"
  },
  "papermill": {
   "default_parameters": {},
   "duration": 13.852592,
   "end_time": "2022-05-20T14:47:55.692031",
   "environment_variables": {},
   "exception": null,
   "input_path": "__notebook__.ipynb",
   "output_path": "__notebook__.ipynb",
   "parameters": {},
   "start_time": "2022-05-20T14:47:41.839439",
   "version": "2.3.4"
  }
 },
 "nbformat": 4,
 "nbformat_minor": 5
}
